{
 "cells": [
  {
   "cell_type": "markdown",
   "metadata": {
    "colab_type": "text",
    "id": "view-in-github"
   },
   "source": [
    "<a href=\"https://colab.research.google.com/github/navyz/notebooks/blob/main/Setup_gcp_gcloud_on_Jupiter.ipynb\" target=\"_parent\"><img src=\"https://colab.research.google.com/assets/colab-badge.svg\" alt=\"Open In Colab\"/></a>"
   ]
  },
  {
   "cell_type": "markdown",
   "metadata": {
    "id": "cnCnCZPxb-Zg"
   },
   "source": [
    "# Setup gcloud sdk\n",
    "\n",
    "Initial setup need to be done before Jupiter can connect to Google Cloud. The setup steps are based on the [google document](https://cloud.google.com/sdk/docs/install#linux).\n",
    "\n"
   ]
  },
  {
   "cell_type": "markdown",
   "metadata": {
    "id": "M8CkMrUqb-Zl"
   },
   "source": [
    "## Install gcloud cli"
   ]
  },
  {
   "cell_type": "markdown",
   "metadata": {
    "id": "XvR6Q4QPhUZb"
   },
   "source": [
    "Open Jupyter terminal and run the below commands\n",
    "\n",
    "\n",
    "``curl -O https://dl.google.com/dl/cloudsdk/channels/rapid/downloads/google-cloud-sdk-355.0.0-linux-x86_64.tar.gz``\n",
    "\n",
    "``tar -xvf google-cloud-sdk-355.0.0-linux-x86_64.tar.gz``\n",
    "\n",
    "``./google-cloud-sdk/install.sh``\n",
    "\n",
    "``./google-cloud-sdk/bin/gcloud init``\n",
    "\n"
   ]
  },
  {
   "cell_type": "markdown",
   "metadata": {
    "id": "BWUMPX9UiWsj"
   },
   "source": [
    "Provide the below info for the last command\n",
    "* Named profile: jupyter\n",
    "* User: khoa.motsach@gmail.com\n",
    "* New project: khoa-motsach-project-07\n"
   ]
  },
  {
   "cell_type": "markdown",
   "metadata": {
    "id": "ImlVmH_ni7hx"
   },
   "source": [
    "Setup default configuration\n",
    "```\n",
    "gcloud config set compute/zone asia-southeast1-a\n",
    "```"
   ]
  },
  {
   "cell_type": "markdown",
   "metadata": {
    "id": "GeQpZ2S2luBw"
   },
   "source": [
    "## Install python gcp sdk"
   ]
  },
  {
   "cell_type": "code",
   "execution_count": null,
   "metadata": {
    "id": "GRX5p4lxlyLZ"
   },
   "outputs": [],
   "source": [
    "%pip install --upgrade google-api-python-client google-auth-httplib2 google-auth-oauthlib"
   ]
  }
 ],
 "metadata": {
  "anaconda-cloud": {},
  "colab": {
   "collapsed_sections": [
    "1VhWJ7ymb-aB",
    "dRrl08Qwb-aD",
    "4bqUfyZ_b-aD",
    "aHNcmyNPb-aF",
    "QBHnjtv-b-aG",
    "1vvFc8Rjb-aH",
    "bA0bLGUQb-aI",
    "a8bbDWt0b-aK",
    "Khuj04Ijb-aL",
    "yz2HChNHb-aL",
    "aPiVYNrVb-aM"
   ],
   "include_colab_link": true,
   "name": "Setup gcp gcloud on Jupiter.ipynb",
   "provenance": []
  },
  "kernelspec": {
   "display_name": "Python 3",
   "language": "python",
   "name": "python3"
  },
  "language_info": {
   "codemirror_mode": {
    "name": "ipython",
    "version": 3
   },
   "file_extension": ".py",
   "mimetype": "text/x-python",
   "name": "python",
   "nbconvert_exporter": "python",
   "pygments_lexer": "ipython3",
   "version": "3.8.3"
  }
 },
 "nbformat": 4,
 "nbformat_minor": 4
}
