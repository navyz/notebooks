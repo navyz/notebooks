{
  "nbformat": 4,
  "nbformat_minor": 0,
  "metadata": {
    "colab": {
      "name": "gcp services.ipynb",
      "provenance": [],
      "collapsed_sections": [],
      "toc_visible": true,
      "authorship_tag": "ABX9TyMNEV6pA+4EiqXm171DHqQ/",
      "include_colab_link": true
    },
    "kernelspec": {
      "name": "python3",
      "display_name": "Python 3"
    },
    "language_info": {
      "name": "python"
    }
  },
  "cells": [
    {
      "cell_type": "markdown",
      "metadata": {
        "id": "view-in-github",
        "colab_type": "text"
      },
      "source": [
        "<a href=\"https://colab.research.google.com/github/navyz/notebooks/blob/main/gcp_services.ipynb\" target=\"_parent\"><img src=\"https://colab.research.google.com/assets/colab-badge.svg\" alt=\"Open In Colab\"/></a>"
      ]
    },
    {
      "cell_type": "markdown",
      "metadata": {
        "id": "ZpxWzy3OSxlZ"
      },
      "source": [
        "# Google Cloud services"
      ]
    },
    {
      "cell_type": "markdown",
      "metadata": {
        "id": "aROGZYlaVvLo"
      },
      "source": [
        "## Storages"
      ]
    },
    {
      "cell_type": "markdown",
      "metadata": {
        "id": "TavZUOaXS1kV"
      },
      "source": [
        "### Firestore\n",
        "Document Database\n",
        "\n",
        "* Servless\n",
        "* Live synchronization and offline mode\n",
        "* Powerful query engine\n",
        "* Multi-region replication"
      ]
    },
    {
      "cell_type": "markdown",
      "metadata": {
        "id": "ZE8Hj8q1TFC4"
      },
      "source": [
        "### Firebase\n",
        "* Mobile development platform\n",
        "* Have 3 commons module with normal GCP project"
      ]
    },
    {
      "cell_type": "markdown",
      "metadata": {
        "id": "7eUHSqPqTMRK"
      },
      "source": [
        "### Cloud SQL\n",
        "* Multiple zones\n",
        "* Support: MySQL, Postgres, SQL Server"
      ]
    },
    {
      "cell_type": "markdown",
      "metadata": {
        "id": "37zFQE6ZV1xF"
      },
      "source": [
        "## Compute"
      ]
    },
    {
      "cell_type": "markdown",
      "metadata": {
        "id": "4V3vTrRuTTvF"
      },
      "source": [
        "### Cloud Run\n",
        "* Abstract away all infrastructure management \n",
        "* Built upon the container and Knative open standards\n",
        "* Deploy container images using the programming language of your choice"
      ]
    },
    {
      "cell_type": "markdown",
      "metadata": {
        "id": "kTsaovBwTZuR"
      },
      "source": [
        "### Cloud Function\n",
        "* Deploy snippets of code (functions) written in a limited set of programming languages\n",
        "* Similar as Lambda"
      ]
    },
    {
      "cell_type": "markdown",
      "metadata": {
        "id": "9vH28TIhV-5H"
      },
      "source": [
        "## Security"
      ]
    },
    {
      "cell_type": "markdown",
      "metadata": {
        "id": "zYLZrq9JUzdm"
      },
      "source": [
        "### Cloud Armor\n",
        "\n",
        "| Features | Remark |\n",
        "| --- | --- | \n",
        "| Protect data at transit | |\n",
        "| Against Global Load Balancer |  |\n",
        "| DDoS | AWS Shield |\n",
        "| WAF | AWS WAF |\n",
        "| Pre-configured WAF rules. OWASP Top 10 risks | Required |\n",
        "| IP-based and geo-based access control |  |\n",
        "| Support for hybrid and multicloud deployments |  |\n",
        "| Managed Protection Plus for enterprise | 3000$ per month |\n",
        "| Log in StackDriver |  |\n"
      ]
    },
    {
      "cell_type": "markdown",
      "metadata": {
        "id": "U4wX4DbvVoC-"
      },
      "source": [
        "### Web Sercurity Scanner\n",
        "\n",
        "| Features | Remark |\n",
        "| --- | --- | \n",
        "| Protect data at transit | |\n",
        "| WAF | AWS Inspector |\n",
        "| Free but limited vulnerability scanner |  |\n",
        "| Supported services | GAE, GKE, GCE |\n",
        "| Pre-configured WAF rules. OWASP Top 10 risks | Required |\n",
        "| GET-only requests |  |\n"
      ]
    },
    {
      "cell_type": "markdown",
      "metadata": {
        "id": "7WM8PkpwWwyo"
      },
      "source": [
        "### Data lost prevention\n",
        "\n",
        "| Features | Remark |\n",
        "| --- | --- | \n",
        "| Protect data at rest | AWS Macie |\n",
        "| Use machine learning |  |\n",
        "| Data discovery and classification | |\n",
        "| De-identify your data: redact, mask, tokenize, and transform text and images | |\n",
        "| Pay as you go, servless|  |\n",
        "| On and off the cloud |  |\n",
        "| Text and images |  |\n"
      ]
    },
    {
      "cell_type": "markdown",
      "metadata": {
        "id": "0bdPgiFTWw9P"
      },
      "source": [
        "### Event Thread Protection\n",
        "\n",
        "| Features | Remark |\n",
        "| --- | --- | \n",
        "| Scan log for security detection | AWS Guard Duty |\n",
        "| Malware, DDoS, port scanning, brute-force |  |\n"
      ]
    },
    {
      "cell_type": "markdown",
      "metadata": {
        "id": "KtsGC2EPWxKD"
      },
      "source": [
        "### Security Command Center\n",
        "\n",
        "* Is a Security Information & Event Management System (SIEM)\n",
        "* Similar services\n",
        "  * AWS Security Hub\n",
        "  * Splunk Enterprise Security\n",
        "  * Sumo Logic\n",
        "\n"
      ]
    },
    {
      "cell_type": "markdown",
      "metadata": {
        "id": "gt9ARHnXWxSx"
      },
      "source": [
        "### KMS\n",
        "\n",
        "* Regional & global\n",
        "* Support HSM\n",
        "* FIPS compliance"
      ]
    },
    {
      "cell_type": "markdown",
      "metadata": {
        "id": "n3qgTWm5V6oe"
      },
      "source": [
        "## Monitoring"
      ]
    },
    {
      "cell_type": "markdown",
      "metadata": {
        "id": "97O9JhQUTgMm"
      },
      "source": [
        "### Audit log\n",
        "| Features | Remark |\n",
        "| --- | --- | \n",
        "| Admin log (eg. create new VM) | Required |\n",
        "| System Event (eg. Auto scalling) | Required |\n",
        "| Access transparency log (by Google support staff) | Required |\n",
        "| BigQuery | Required |\n",
        "| Data access | Custom |\n",
        "| User defined | Custom |\n",
        "| Required log | 400 days |\n",
        "| Custom log | 30 days |"
      ]
    },
    {
      "cell_type": "markdown",
      "metadata": {
        "id": "NNW6u95tYc2E"
      },
      "source": [
        "### Stack driver family\n",
        "1. SD Logging\n",
        "   * Base on Fluentd\n",
        "   * Store, search, analyze, monitor, alert on log and events\n",
        "   * Hybrid cloud\n",
        "   * Scope: global\n",
        "   * Similar as: AWS CloudWatch\n",
        "\n",
        "2. SD Error Reporting\n",
        "   * Error dashboard\n",
        "   * Counts, analyze, aggregate, track crash\n",
        "   * Alarm\n",
        "   * Understand programming language\n",
        "   * Support gcp, aws, on-premise\n",
        "   * Similar: Rollbar, Bugsnag\n",
        "3. SD Trace\n",
        "   * Track call tree and ``latency`` across distributed system\n",
        "   * Java, Node, Ruby, Go\n",
        "   * Automatic captured for App Engine\n",
        "   * Monitor ``performance``\n",
        "   * Scope: global\n",
        "   * Similar: AWS X-Ray, Zipkin, Open Tracking\n",
        "4. SD Debugger\n",
        "   * View the application state (variables) without adding logging statements.\n",
        "   * Logpoint, conditional, source view\n",
        "   * Support Java, Python, Node, Ruby\n",
        "   * GCE, GKE, GAE\n",
        "   * Automatic capture for App Engine\n",
        "   * Scope: global\n",
        "   * Support: github, gitlab, bitbucket, app engine\n",
        "4. SD Profileer\n",
        "   * Watch application CPU, memory\n",
        "   * Low overhead (less than 5%)\n",
        "   * Go, Java, Node, Python\n",
        "   * Agent based\n",
        "   * 30 days log\n",
        "   * Free of chage\n",
        "\n",
        "\n",
        "| Tool | Target | Method | Based on | Hybrid |\n",
        "| --- | --- | --- | --- | --- |\n",
        "| SD Logging | Log | SDK, role | fludentd | Yes |\n",
        "| SD Error Reporting | Error | SDK |  | Yes |\n",
        "| SD Trace | Performance | SDK | | - |\n",
        "| SD Debugger | Debug | SDK | | Yes |\n",
        "| SD Profiler | CPU/RAM |Agent|  | Yes |\n",
        "\n"
      ]
    },
    {
      "cell_type": "markdown",
      "metadata": {
        "id": "DtU4md0kcExX"
      },
      "source": [
        "## Development"
      ]
    },
    {
      "cell_type": "markdown",
      "metadata": {
        "id": "dYuXjAw7Yc45"
      },
      "source": [
        "### Deploy Management\n",
        "\n",
        "1. Infrastructure as Service\n",
        "2. Template based\n",
        "3. Language supported: Yaml, Python, Jinja2, Json\n",
        "4. Similar: AWS CloudFormation, HashiCorp TerraForm, Free of charge"
      ]
    },
    {
      "cell_type": "markdown",
      "metadata": {
        "id": "MxaK6aZXYc7U"
      },
      "source": [
        "### Billing API\n",
        "1. Detial billing\n",
        "2. Get list of billable SKU\n",
        "3. Get public pricing\n",
        "4. Regional availability"
      ]
    },
    {
      "cell_type": "markdown",
      "metadata": {
        "id": "3UG3NgKDYc9y"
      },
      "source": [
        "### Source repository\n",
        "1. No pull requests\n",
        "2. Auto sync from Bitbucket, Github\n",
        "3. Integration with stackdriver debugger\n",
        "4. Pay per active users + resources\n",
        "5. No enhance feature like pull request\n"
      ]
    },
    {
      "cell_type": "markdown",
      "metadata": {
        "id": "KG0R7ZNRYdAD"
      },
      "source": [
        "### Code build\n",
        "1. CI/CD service\n",
        "2. Can trigger from GitHub, BitBucket\n",
        "3. Can build parallel for muiltiple source repos\n",
        "4. Dockerfile built-in\n",
        "5. Integrate with CCR\n",
        "6. Build model: Pay per minutes, Free for 120 mins\n",
        "7. Similar: AWS CodeBuild, Travis CI, Jenkins\n",
        "\n",
        "\n"
      ]
    },
    {
      "cell_type": "markdown",
      "metadata": {
        "id": "mqJokuJqYdCS"
      },
      "source": [
        "### Google Container Registry\n",
        "1. Google Container Registry\n",
        "2. Stored in Cloud Storaged\n",
        "3. Scope: Regional & Multi-regional\n",
        "4. Similar: AWS ECR, Docker Hub"
      ]
    },
    {
      "cell_type": "markdown",
      "metadata": {
        "id": "pIOQdqqoYdE2"
      },
      "source": [
        "### Anthos\n",
        "\n",
        "1. Unifies the management of infrastructure and applications\n",
        "2. Multi-cloud + on-premise\n",
        "3. Similar: AWS ECR, Docker Hub\n"
      ]
    },
    {
      "cell_type": "markdown",
      "metadata": {
        "id": "-eRSV-ZNbS6z"
      },
      "source": [
        "### Cloud Endpoint\n",
        "\n",
        "1. Handles authorization, monitoring, logging, AIP keys in GCP\n",
        "2. Proxy base on LB\n",
        "3. Use JWT\n",
        "4. Integrate with firebase, Auth0, Google Auth\n",
        "5. Extensible Service Proxy Container\n",
        "6. Support both REST and gRPC\n",
        "7. Similar: AWS API Gateway, Nginx"
      ]
    },
    {
      "cell_type": "markdown",
      "metadata": {
        "id": "X108Vw8ebTAx"
      },
      "source": [
        "### Apigee\n",
        "\n",
        "1. Full lifecycle api management\n",
        "2. More powerful, more exepensive\n",
        "3. Support both REST and gRPC\n",
        "4. Support throttle, api versions\n",
        "5. Similar: AWS API Gateway, AWS Shield, CA API Gateway\n",
        "\n"
      ]
    },
    {
      "cell_type": "markdown",
      "metadata": {
        "id": "Q7NO3nB9bTDK"
      },
      "source": [
        "### Test Lab\n",
        "\n",
        "1. For Android\n",
        "2. Test with real devices\n",
        "3. Similar: AWS Device Farm, Xamarin test cloud, Sauce Lab mobile testing\n"
      ]
    },
    {
      "cell_type": "markdown",
      "metadata": {
        "id": "ishDOi-ObTFs"
      },
      "source": [
        "# Technologies used in Google Cloud\n",
        "\n",
        "| Features | Remark |\n",
        "| --- | --- | \n",
        "| Borg | cluster manager. Userd by Kubernetes |\n",
        "| Spanner | globally-consistent, scalable regional database |\n",
        "| Colossus | cluster-level file system |\n",
        "| fluentd | logging |\n",
        "| fluent-bit | logging, minified |\n",
        "| loggingd | monitoring |\n"
      ]
    },
    {
      "cell_type": "markdown",
      "metadata": {
        "id": "LKpDuadNgZxx"
      },
      "source": [
        "# Data & Data analytics"
      ]
    },
    {
      "cell_type": "markdown",
      "metadata": {
        "id": "cF406LhKgfZ8"
      },
      "source": [
        "## Database"
      ]
    },
    {
      "cell_type": "markdown",
      "metadata": {
        "id": "gKPM0SC3g1ky"
      },
      "source": [
        "\n",
        "| Product | Remark | Similar |\n",
        "| --- | --- | --- |\n",
        "| CloudSQL | AWS Inspector | RDS |\n",
        "| Cloud Spanner | Enterprise RDBM | Aurora |\n",
        "| Cloud DataStore | Wide-column | DynamoDB |\n",
        "| BigTable | Append only | DynamoDB |\n",
        "| BigQuery | Rrelational structured data | Redshift |\n"
      ]
    },
    {
      "cell_type": "markdown",
      "metadata": {
        "id": "k3_9212jgicA"
      },
      "source": [
        "## Data analytics"
      ]
    },
    {
      "cell_type": "markdown",
      "metadata": {
        "id": "DAWYuHJLiE_X"
      },
      "source": [
        "\n",
        "| Product | Purpose | Similar |\n",
        "| --- | --- | --- |\n",
        "| Datalab | - | Jupiter notebook |\n",
        "| Google Data Studio | Dashboard, reporting | - |\n",
        "| Looker | BI - third party | Anthena |\n",
        "| Cloud Genomics | Genomics processing | - |\n",
        "| BigQuery | Rrelational structured data | Athena, Redshift |\n"
      ]
    },
    {
      "cell_type": "markdown",
      "metadata": {
        "id": "yVKLNkrlgojz"
      },
      "source": [
        "### Data processing"
      ]
    },
    {
      "cell_type": "markdown",
      "metadata": {
        "id": "_aoGtVlUioIQ"
      },
      "source": [
        "\n",
        "| Product | Purpose | Similar |\n",
        "| --- | --- | --- |\n",
        "| Dataprep (vendor) | data eingineering tool | MapReduce, AWS EMR |\n",
        "| Dataflow | Batch data processing | Kinesis |\n",
        "| Dataproc | Data processing | Hadoop, Spark |\n",
        "| Data Composer | Orchestration | Datapipeline, Glue |\n",
        "| Pub/Sub | Dashboard, reporting | Kinesis |\n"
      ]
    },
    {
      "cell_type": "markdown",
      "metadata": {
        "id": "sTzfYTdagv5i"
      },
      "source": [
        "### Data migration"
      ]
    },
    {
      "cell_type": "markdown",
      "metadata": {
        "id": "7g0ocHy3bTKV"
      },
      "source": [
        "# Pricing\n",
        "\n",
        "## Storage\n",
        "\n",
        "| A | B | Compare |\n",
        "| --- | --- | --- | \n",
        "| Class A | Class B | 10 times |\n",
        "| Standard | Archived | 10 times |\n",
        "| Standard | Coldline | 2 times |\n",
        "| HD | Standard | 2 times |\n",
        "| Firestore | Standard | 10 times |\n",
        "| Snapshot | Standard | equal |\n",
        "\n",
        "## Compute\n",
        "\n",
        "| A | B | Compare |\n",
        "| --- | --- | --- | \n",
        "| Standard | Preempty | > 3 times |\n",
        "| Standard | Reserved | < 2 times |\n",
        "| GKE | Compute | 2 times |\n",
        "| GKE Demand | GKE reserved | 1.5 times |\n",
        "| NVIDIA | Tesla | 8 times |\n",
        "| GPU | CPU | 50 times |\n",
        "| TPU | GPU | 5 times |\n"
      ]
    },
    {
      "cell_type": "markdown",
      "metadata": {
        "id": "LUgKWkTVbTM5"
      },
      "source": [
        "### xxx\n",
        "\n",
        "| Features | Remark |\n",
        "| --- | --- | \n",
        "| WAF | AWS Inspector |\n",
        "| Free but limited vulnerability scanner |  |\n",
        "| Supported services | GAE, GKE, GCE |\n",
        "| Pre-configured WAF rules. OWASP Top 10 risks | Required |\n",
        "| GET-only requests |  |\n"
      ]
    },
    {
      "cell_type": "markdown",
      "metadata": {
        "id": "h0qRBQ7ObTPS"
      },
      "source": [
        "### xxx\n",
        "\n",
        "| Features | Remark |\n",
        "| --- | --- | \n",
        "| WAF | AWS Inspector |\n",
        "| Free but limited vulnerability scanner |  |\n",
        "| Supported services | GAE, GKE, GCE |\n",
        "| Pre-configured WAF rules. OWASP Top 10 risks | Required |\n",
        "| GET-only requests |  |\n"
      ]
    },
    {
      "cell_type": "markdown",
      "metadata": {
        "id": "s_RsroohbTRg"
      },
      "source": [
        "### xxx\n",
        "\n",
        "| Features | Remark |\n",
        "| --- | --- | \n",
        "| WAF | AWS Inspector |\n",
        "| Free but limited vulnerability scanner |  |\n",
        "| Supported services | GAE, GKE, GCE |\n",
        "| Pre-configured WAF rules. OWASP Top 10 risks | Required |\n",
        "| GET-only requests |  |\n"
      ]
    },
    {
      "cell_type": "markdown",
      "metadata": {
        "id": "mHU6fMELbTT4"
      },
      "source": [
        "### xxx\n",
        "\n",
        "| Features | Remark |\n",
        "| --- | --- | \n",
        "| WAF | AWS Inspector |\n",
        "| Free but limited vulnerability scanner |  |\n",
        "| Supported services | GAE, GKE, GCE |\n",
        "| Pre-configured WAF rules. OWASP Top 10 risks | Required |\n",
        "| GET-only requests |  |\n"
      ]
    },
    {
      "cell_type": "markdown",
      "metadata": {
        "id": "VQNvCPwTbTWJ"
      },
      "source": [
        "### xxx\n",
        "\n",
        "| Features | Remark |\n",
        "| --- | --- | \n",
        "| WAF | AWS Inspector |\n",
        "| Free but limited vulnerability scanner |  |\n",
        "| Supported services | GAE, GKE, GCE |\n",
        "| Pre-configured WAF rules. OWASP Top 10 risks | Required |\n",
        "| GET-only requests |  |\n"
      ]
    },
    {
      "cell_type": "code",
      "metadata": {
        "id": "3P3gtIrLgeN0"
      },
      "source": [
        ""
      ],
      "execution_count": null,
      "outputs": []
    }
  ]
}