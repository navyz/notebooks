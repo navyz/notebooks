{
  "nbformat": 4,
  "nbformat_minor": 0,
  "metadata": {
    "colab": {
      "name": "gcp services.ipynb",
      "provenance": [],
      "collapsed_sections": [],
      "toc_visible": true,
      "authorship_tag": "ABX9TyMFhoKTElM38F1QsfRLGImW",
      "include_colab_link": true
    },
    "kernelspec": {
      "name": "python3",
      "display_name": "Python 3"
    },
    "language_info": {
      "name": "python"
    }
  },
  "cells": [
    {
      "cell_type": "markdown",
      "metadata": {
        "id": "view-in-github",
        "colab_type": "text"
      },
      "source": [
        "<a href=\"https://colab.research.google.com/github/navyz/notebooks/blob/main/gcp_services.ipynb\" target=\"_parent\"><img src=\"https://colab.research.google.com/assets/colab-badge.svg\" alt=\"Open In Colab\"/></a>"
      ]
    },
    {
      "cell_type": "markdown",
      "metadata": {
        "id": "ZpxWzy3OSxlZ"
      },
      "source": [
        "# Google Cloud services"
      ]
    },
    {
      "cell_type": "markdown",
      "metadata": {
        "id": "TavZUOaXS1kV"
      },
      "source": [
        "### Firestore\n",
        "Document Database\n",
        "\n",
        "* Servless\n",
        "* Live synchronization and offline mode\n",
        "* Powerful query engine\n",
        "* Multi-region replication"
      ]
    },
    {
      "cell_type": "markdown",
      "metadata": {
        "id": "ZE8Hj8q1TFC4"
      },
      "source": [
        "### Firebase\n",
        "* Mobile development platform\n",
        "* Have 3 commons module with normal GCP project"
      ]
    },
    {
      "cell_type": "markdown",
      "metadata": {
        "id": "7eUHSqPqTMRK"
      },
      "source": [
        "### Cloud SQL\n",
        "* Multiple zones\n",
        "* Support: MySQL, Postgres, SQL Server"
      ]
    },
    {
      "cell_type": "markdown",
      "metadata": {
        "id": "4V3vTrRuTTvF"
      },
      "source": [
        "### Cloud Run\n",
        "* Abstract away all infrastructure management \n",
        "* Built upon the container and Knative open standards\n",
        "* Deploy container images using the programming language of your choice"
      ]
    },
    {
      "cell_type": "markdown",
      "metadata": {
        "id": "kTsaovBwTZuR"
      },
      "source": [
        "### Cloud Function\n",
        "* Deploy snippets of code (functions) written in a limited set of programming languages\n",
        "* Similar as Lambda"
      ]
    },
    {
      "cell_type": "markdown",
      "metadata": {
        "id": "97O9JhQUTgMm"
      },
      "source": [
        "### Audit log\n"
      ]
    }
  ]
}