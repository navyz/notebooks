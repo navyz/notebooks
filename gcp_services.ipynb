{
  "nbformat": 4,
  "nbformat_minor": 0,
  "metadata": {
    "colab": {
      "name": "gcp services.ipynb",
      "provenance": [],
      "collapsed_sections": [],
      "toc_visible": true,
      "authorship_tag": "ABX9TyOUfq1Mc9EuFG08txQlebNP",
      "include_colab_link": true
    },
    "kernelspec": {
      "name": "python3",
      "display_name": "Python 3"
    },
    "language_info": {
      "name": "python"
    }
  },
  "cells": [
    {
      "cell_type": "markdown",
      "metadata": {
        "id": "view-in-github",
        "colab_type": "text"
      },
      "source": [
        "<a href=\"https://colab.research.google.com/github/navyz/notebooks/blob/main/gcp_services.ipynb\" target=\"_parent\"><img src=\"https://colab.research.google.com/assets/colab-badge.svg\" alt=\"Open In Colab\"/></a>"
      ]
    },
    {
      "cell_type": "markdown",
      "metadata": {
        "id": "ZpxWzy3OSxlZ"
      },
      "source": [
        "# Google Cloud services"
      ]
    },
    {
      "cell_type": "markdown",
      "metadata": {
        "id": "aROGZYlaVvLo"
      },
      "source": [
        "## Storages"
      ]
    },
    {
      "cell_type": "markdown",
      "metadata": {
        "id": "TavZUOaXS1kV"
      },
      "source": [
        "### Firestore\n",
        "Document Database\n",
        "\n",
        "* Servless\n",
        "* Live synchronization and offline mode\n",
        "* Powerful query engine\n",
        "* Multi-region replication"
      ]
    },
    {
      "cell_type": "markdown",
      "metadata": {
        "id": "ZE8Hj8q1TFC4"
      },
      "source": [
        "### Firebase\n",
        "* Mobile development platform\n",
        "* Have 3 commons module with normal GCP project"
      ]
    },
    {
      "cell_type": "markdown",
      "metadata": {
        "id": "7eUHSqPqTMRK"
      },
      "source": [
        "### Cloud SQL\n",
        "* Multiple zones\n",
        "* Support: MySQL, Postgres, SQL Server"
      ]
    },
    {
      "cell_type": "markdown",
      "metadata": {
        "id": "37zFQE6ZV1xF"
      },
      "source": [
        "## Compute"
      ]
    },
    {
      "cell_type": "markdown",
      "metadata": {
        "id": "4V3vTrRuTTvF"
      },
      "source": [
        "### Cloud Run\n",
        "* Abstract away all infrastructure management \n",
        "* Built upon the container and Knative open standards\n",
        "* Deploy container images using the programming language of your choice"
      ]
    },
    {
      "cell_type": "markdown",
      "metadata": {
        "id": "kTsaovBwTZuR"
      },
      "source": [
        "### Cloud Function\n",
        "* Deploy snippets of code (functions) written in a limited set of programming languages\n",
        "* Similar as Lambda"
      ]
    },
    {
      "cell_type": "markdown",
      "metadata": {
        "id": "9vH28TIhV-5H"
      },
      "source": [
        "## Security"
      ]
    },
    {
      "cell_type": "markdown",
      "metadata": {
        "id": "zYLZrq9JUzdm"
      },
      "source": [
        "### Cloud Armor\n",
        "\n",
        "| Features | Remark |\n",
        "| --- | --- | \n",
        "| Protect data at transit | |\n",
        "| Against Global Load Balancer |  |\n",
        "| DDoS | AWS Shield |\n",
        "| WAF | AWS WAF |\n",
        "| Pre-configured WAF rules. OWASP Top 10 risks | Required |\n",
        "| IP-based and geo-based access control |  |\n",
        "| Support for hybrid and multicloud deployments |  |\n",
        "| Managed Protection Plus for enterprise |  |\n",
        "| Log in StackDriver |  |\n"
      ]
    },
    {
      "cell_type": "markdown",
      "metadata": {
        "id": "U4wX4DbvVoC-"
      },
      "source": [
        "### Web Sercurity Scanner\n",
        "\n",
        "| Features | Remark |\n",
        "| --- | --- | \n",
        "| Protect data at transit | |\n",
        "| WAF | AWS Inspector |\n",
        "| Free but limited vulnerability scanner |  |\n",
        "| Supported services | GAE, GKE, GCE |\n",
        "| Pre-configured WAF rules. OWASP Top 10 risks | Required |\n",
        "| GET-only requests |  |\n"
      ]
    },
    {
      "cell_type": "markdown",
      "metadata": {
        "id": "7WM8PkpwWwyo"
      },
      "source": [
        "### Data lost prevention\n",
        "\n",
        "| Features | Remark |\n",
        "| --- | --- | \n",
        "| Protect data at rest | AWS Macie |\n",
        "| Use machine learning |  |\n",
        "| Data discovery and classification | |\n",
        "| De-identify your data: redact, mask, tokenize, and transform text and images | |\n",
        "| Pay as you go, servless|  |\n",
        "| On and off the cloud |  |\n",
        "| Text and images |  |\n"
      ]
    },
    {
      "cell_type": "markdown",
      "metadata": {
        "id": "0bdPgiFTWw9P"
      },
      "source": [
        "### Event Thread Protection\n",
        "\n",
        "| Features | Remark |\n",
        "| --- | --- | \n",
        "| Scan log for security detection | AWS Guard Duty |\n",
        "| Malware, DDoS, port scanning, brute-force |  |\n"
      ]
    },
    {
      "cell_type": "markdown",
      "metadata": {
        "id": "KtsGC2EPWxKD"
      },
      "source": [
        "### Security Command Center\n",
        "\n",
        "* Is a Security Information & Event Management System (SIEM)\n",
        "* Similar services\n",
        "  * AWS Security Hub\n",
        "  * Splunk Enterprise Security\n",
        "  * Sumo Logic\n",
        "\n"
      ]
    },
    {
      "cell_type": "markdown",
      "metadata": {
        "id": "gt9ARHnXWxSx"
      },
      "source": [
        "### KMS\n",
        "\n",
        "* Regional & global\n",
        "* Support HSM\n",
        "* FIPS compliance"
      ]
    },
    {
      "cell_type": "markdown",
      "metadata": {
        "id": "n3qgTWm5V6oe"
      },
      "source": [
        "## Monitoring"
      ]
    },
    {
      "cell_type": "markdown",
      "metadata": {
        "id": "97O9JhQUTgMm"
      },
      "source": [
        "### Audit log\n",
        "| Features | Remark |\n",
        "| --- | --- | \n",
        "| Admin log (eg. create new VM) | Required |\n",
        "| System Event (eg. Auto scalling) | Required |\n",
        "| Access transparency log (by Google support staff) | Required |\n",
        "| BigQuery | Required |\n",
        "| Data access | Custom |\n",
        "| User defined | Custom |\n",
        "| Required log | 400 days |\n",
        "| Custom log | 30 days |"
      ]
    },
    {
      "cell_type": "markdown",
      "metadata": {
        "id": "NNW6u95tYc2E"
      },
      "source": [
        "### Stack driver family\n",
        "1. SD Logging\n",
        "   * Base on Fluentd\n",
        "   * Store, search, analyze, monitor, alert on log and events\n",
        "   * Hybrid cloud\n",
        "   * Scope: global\n",
        "   * Similar as: AWS CloudWatch\n",
        "\n",
        "2. SD Error Reporting\n",
        "   * Error dashboard\n",
        "   * Counts, analyze, aggregate, track crash\n",
        "   * Alarm\n",
        "   * Understand programming language\n",
        "   * Similar: Rollbar, Bugsnag\n",
        "3. SD Trace\n",
        "   * Track call tree and latency across distributed system\n",
        "   * Java, Node, Ruby, Go\n",
        "   * Automatic capture for App Engine\n",
        "   * Monitor performance\n",
        "   * Scope: global\n",
        "   * Similar: AWS X-Ray, Zipkin, Open Tracking\n",
        "4. SD Debugger\n",
        "   * View the application state (variables) without adding logging statements.\n",
        "   * Logpoint, conditional, source view\n",
        "   * Support Java, Python, Node, Ruby\n",
        "   * GCE, GKE, GAE\n",
        "   * Automatic capture for App Engine\n",
        "   * Scope: global\n",
        "4. SD Profileer\n",
        "   * Watch application CPU, memory\n",
        "   * Low overhead (less than 5%)\n",
        "   * Go, Java, Node, Python\n",
        "   * Agent based\n",
        "   * 30 days log\n",
        "   * Free of chage\n",
        "\n"
      ]
    },
    {
      "cell_type": "markdown",
      "metadata": {
        "id": "DtU4md0kcExX"
      },
      "source": [
        "## Development"
      ]
    },
    {
      "cell_type": "markdown",
      "metadata": {
        "id": "dYuXjAw7Yc45"
      },
      "source": [
        "### Deploy Management\n",
        "\n",
        "1. Infrastructure as Service\n",
        "2. Template based\n",
        "3. Language supported: Yaml, Python, Jinja2, Json\n",
        "4. Similar: AWS CloudFormation, HashiCorp TerraForm, Free of charge"
      ]
    },
    {
      "cell_type": "markdown",
      "metadata": {
        "id": "MxaK6aZXYc7U"
      },
      "source": [
        "### Billing API\n",
        "1. Detial billing\n",
        "2. Get list of billable SKU\n",
        "3. Get public pricing\n",
        "4. Regional availability"
      ]
    },
    {
      "cell_type": "markdown",
      "metadata": {
        "id": "3UG3NgKDYc9y"
      },
      "source": [
        "### Source repository\n",
        "1. No pull requests\n",
        "2. Auto sync from Bitbucket, Github\n",
        "3. Integration with stackdriver debugger\n",
        "4. Pay per active users + resources\n",
        "5. No enhance feature like pull request\n"
      ]
    },
    {
      "cell_type": "markdown",
      "metadata": {
        "id": "KG0R7ZNRYdAD"
      },
      "source": [
        "### Code build\n",
        "1. CI/CD service\n",
        "2. Can trigger from GitHub, BitBucket\n",
        "3. Can build parallel for muiltiple source repos\n",
        "4. Dockerfile built-in\n",
        "5. Integrate with CCR\n",
        "6. Build model: Pay per minutes, Free for 120 mins\n",
        "7. Similar: AWS CodeBuild, Travis CI, Jenkins\n",
        "\n",
        "\n"
      ]
    },
    {
      "cell_type": "markdown",
      "metadata": {
        "id": "mqJokuJqYdCS"
      },
      "source": [
        "### Google Container Registry\n",
        "1. Google Container Registry\n",
        "2. Stored in Cloud Storaged\n",
        "3. Scope: Regional & Multi-regional\n",
        "4. Similar: AWS ECR, Docker Hub"
      ]
    },
    {
      "cell_type": "markdown",
      "metadata": {
        "id": "pIOQdqqoYdE2"
      },
      "source": [
        "### xxx\n",
        "\n",
        "| Features | Remark |\n",
        "| --- | --- | \n",
        "| WAF | AWS Inspector |\n",
        "| Free but limited vulnerability scanner |  |\n",
        "| Supported services | GAE, GKE, GCE |\n",
        "| Pre-configured WAF rules. OWASP Top 10 risks | Required |\n",
        "| GET-only requests |  |\n"
      ]
    },
    {
      "cell_type": "markdown",
      "metadata": {
        "id": "-eRSV-ZNbS6z"
      },
      "source": [
        "### xxx\n",
        "\n",
        "| Features | Remark |\n",
        "| --- | --- | \n",
        "| WAF | AWS Inspector |\n",
        "| Free but limited vulnerability scanner |  |\n",
        "| Supported services | GAE, GKE, GCE |\n",
        "| Pre-configured WAF rules. OWASP Top 10 risks | Required |\n",
        "| GET-only requests |  |\n"
      ]
    },
    {
      "cell_type": "markdown",
      "metadata": {
        "id": "X108Vw8ebTAx"
      },
      "source": [
        "### xxx\n",
        "\n",
        "| Features | Remark |\n",
        "| --- | --- | \n",
        "| WAF | AWS Inspector |\n",
        "| Free but limited vulnerability scanner |  |\n",
        "| Supported services | GAE, GKE, GCE |\n",
        "| Pre-configured WAF rules. OWASP Top 10 risks | Required |\n",
        "| GET-only requests |  |\n"
      ]
    },
    {
      "cell_type": "markdown",
      "metadata": {
        "id": "Q7NO3nB9bTDK"
      },
      "source": [
        "### xxx\n",
        "\n",
        "| Features | Remark |\n",
        "| --- | --- | \n",
        "| WAF | AWS Inspector |\n",
        "| Free but limited vulnerability scanner |  |\n",
        "| Supported services | GAE, GKE, GCE |\n",
        "| Pre-configured WAF rules. OWASP Top 10 risks | Required |\n",
        "| GET-only requests |  |\n"
      ]
    },
    {
      "cell_type": "markdown",
      "metadata": {
        "id": "ishDOi-ObTFs"
      },
      "source": [
        "### xxx\n",
        "\n",
        "| Features | Remark |\n",
        "| --- | --- | \n",
        "| WAF | AWS Inspector |\n",
        "| Free but limited vulnerability scanner |  |\n",
        "| Supported services | GAE, GKE, GCE |\n",
        "| Pre-configured WAF rules. OWASP Top 10 risks | Required |\n",
        "| GET-only requests |  |\n"
      ]
    },
    {
      "cell_type": "markdown",
      "metadata": {
        "id": "lZPMTB3hbTIG"
      },
      "source": [
        "### xxx\n",
        "\n",
        "| Features | Remark |\n",
        "| --- | --- | \n",
        "| WAF | AWS Inspector |\n",
        "| Free but limited vulnerability scanner |  |\n",
        "| Supported services | GAE, GKE, GCE |\n",
        "| Pre-configured WAF rules. OWASP Top 10 risks | Required |\n",
        "| GET-only requests |  |\n"
      ]
    },
    {
      "cell_type": "markdown",
      "metadata": {
        "id": "7g0ocHy3bTKV"
      },
      "source": [
        "### xxx\n",
        "\n",
        "| Features | Remark |\n",
        "| --- | --- | \n",
        "| WAF | AWS Inspector |\n",
        "| Free but limited vulnerability scanner |  |\n",
        "| Supported services | GAE, GKE, GCE |\n",
        "| Pre-configured WAF rules. OWASP Top 10 risks | Required |\n",
        "| GET-only requests |  |\n"
      ]
    },
    {
      "cell_type": "markdown",
      "metadata": {
        "id": "LUgKWkTVbTM5"
      },
      "source": [
        "### xxx\n",
        "\n",
        "| Features | Remark |\n",
        "| --- | --- | \n",
        "| WAF | AWS Inspector |\n",
        "| Free but limited vulnerability scanner |  |\n",
        "| Supported services | GAE, GKE, GCE |\n",
        "| Pre-configured WAF rules. OWASP Top 10 risks | Required |\n",
        "| GET-only requests |  |\n"
      ]
    },
    {
      "cell_type": "markdown",
      "metadata": {
        "id": "h0qRBQ7ObTPS"
      },
      "source": [
        "### xxx\n",
        "\n",
        "| Features | Remark |\n",
        "| --- | --- | \n",
        "| WAF | AWS Inspector |\n",
        "| Free but limited vulnerability scanner |  |\n",
        "| Supported services | GAE, GKE, GCE |\n",
        "| Pre-configured WAF rules. OWASP Top 10 risks | Required |\n",
        "| GET-only requests |  |\n"
      ]
    },
    {
      "cell_type": "markdown",
      "metadata": {
        "id": "s_RsroohbTRg"
      },
      "source": [
        "### xxx\n",
        "\n",
        "| Features | Remark |\n",
        "| --- | --- | \n",
        "| WAF | AWS Inspector |\n",
        "| Free but limited vulnerability scanner |  |\n",
        "| Supported services | GAE, GKE, GCE |\n",
        "| Pre-configured WAF rules. OWASP Top 10 risks | Required |\n",
        "| GET-only requests |  |\n"
      ]
    },
    {
      "cell_type": "markdown",
      "metadata": {
        "id": "mHU6fMELbTT4"
      },
      "source": [
        "### xxx\n",
        "\n",
        "| Features | Remark |\n",
        "| --- | --- | \n",
        "| WAF | AWS Inspector |\n",
        "| Free but limited vulnerability scanner |  |\n",
        "| Supported services | GAE, GKE, GCE |\n",
        "| Pre-configured WAF rules. OWASP Top 10 risks | Required |\n",
        "| GET-only requests |  |\n"
      ]
    },
    {
      "cell_type": "markdown",
      "metadata": {
        "id": "VQNvCPwTbTWJ"
      },
      "source": [
        "### xxx\n",
        "\n",
        "| Features | Remark |\n",
        "| --- | --- | \n",
        "| WAF | AWS Inspector |\n",
        "| Free but limited vulnerability scanner |  |\n",
        "| Supported services | GAE, GKE, GCE |\n",
        "| Pre-configured WAF rules. OWASP Top 10 risks | Required |\n",
        "| GET-only requests |  |\n"
      ]
    }
  ]
}