{
  "nbformat": 4,
  "nbformat_minor": 0,
  "metadata": {
    "colab": {
      "name": "gcp services.ipynb",
      "provenance": [],
      "collapsed_sections": [],
      "toc_visible": true,
      "authorship_tag": "ABX9TyPEStfpoA3ri5noKu4uho4X",
      "include_colab_link": true
    },
    "kernelspec": {
      "name": "python3",
      "display_name": "Python 3"
    },
    "language_info": {
      "name": "python"
    }
  },
  "cells": [
    {
      "cell_type": "markdown",
      "metadata": {
        "id": "view-in-github",
        "colab_type": "text"
      },
      "source": [
        "<a href=\"https://colab.research.google.com/github/navyz/notebooks/blob/main/gcp_services.ipynb\" target=\"_parent\"><img src=\"https://colab.research.google.com/assets/colab-badge.svg\" alt=\"Open In Colab\"/></a>"
      ]
    },
    {
      "cell_type": "markdown",
      "metadata": {
        "id": "ZpxWzy3OSxlZ"
      },
      "source": [
        "# Google Cloud services"
      ]
    },
    {
      "cell_type": "markdown",
      "metadata": {
        "id": "aROGZYlaVvLo"
      },
      "source": [
        "## Storages"
      ]
    },
    {
      "cell_type": "markdown",
      "metadata": {
        "id": "TavZUOaXS1kV"
      },
      "source": [
        "### Firestore\n",
        "Document Database\n",
        "\n",
        "* Servless\n",
        "* Live synchronization and offline mode\n",
        "* Powerful query engine\n",
        "* Multi-region replication"
      ]
    },
    {
      "cell_type": "markdown",
      "metadata": {
        "id": "ZE8Hj8q1TFC4"
      },
      "source": [
        "### Firebase\n",
        "* Mobile development platform\n",
        "* Have 3 commons module with normal GCP project"
      ]
    },
    {
      "cell_type": "markdown",
      "metadata": {
        "id": "7eUHSqPqTMRK"
      },
      "source": [
        "### Cloud SQL\n",
        "* Multiple zones\n",
        "* Support: MySQL, Postgres, SQL Server"
      ]
    },
    {
      "cell_type": "markdown",
      "metadata": {
        "id": "37zFQE6ZV1xF"
      },
      "source": [
        "## Compute"
      ]
    },
    {
      "cell_type": "markdown",
      "metadata": {
        "id": "4V3vTrRuTTvF"
      },
      "source": [
        "### Cloud Run\n",
        "* Abstract away all infrastructure management \n",
        "* Built upon the container and Knative open standards\n",
        "* Deploy container images using the programming language of your choice"
      ]
    },
    {
      "cell_type": "markdown",
      "metadata": {
        "id": "kTsaovBwTZuR"
      },
      "source": [
        "### Cloud Function\n",
        "* Deploy snippets of code (functions) written in a limited set of programming languages\n",
        "* Similar as Lambda"
      ]
    },
    {
      "cell_type": "markdown",
      "metadata": {
        "id": "KrTlWkHsVdGI"
      },
      "source": [
        "### Kubenettes\n",
        "\n",
        "#### Tools & platforms\n",
        "\n",
        "* ``GKE``: Google Kubenetes Engine\n",
        "* ``AKS``: Azure Kubernetes Service\n",
        "* ``EKS``: AWS Elastic Kubenetes, managed service that you can use to run Kubernetes on AWS\n",
        "* ``minikube`` is local Kubernetes, focusing on making it easy to learn \n",
        "and develop for Kubernetes.\n",
        "* ``Kops``: Kubernetes Operations, is an open source project used to set up Kubernetes clusters easily and swiftly\n",
        "* ``Kubeadm``: part of the Kubernetes distribution as of 1.4. 0 which helps you to install and set up a Kubernetes cluster.\n",
        "\n",
        "#### Kubenetes componnents\n",
        "* ``kutectl``: command line\n",
        "* ``etcd``: the only component in stateful mode. Scaling will be a problem\n",
        "\n",
        "#### Command line\n",
        "\n",
        "\n",
        "**Config & authentication**\n",
        "```\n",
        "kubectl config view\n",
        "gcloud container clusters list\n",
        "kubectl config current-context\n",
        "kubectl get clusterrolebinding\n",
        "kubectl get clusterrole cluster-admin\n",
        "```\n",
        "\n",
        "**View Resource Info**\n",
        "```\n",
        "kubectl get nodes\n",
        "kubectl get pods\n",
        "kubectl api-resources\n",
        "kubectl get pods -o wide\n",
        "kubectl get deploy\n",
        "kubectl get services                          \n",
        "kubectl get pods --all-namespaces \n",
        "kubectl get nodes -o jsonpath='{.items[*].status.addresses[?(@.type==\"ExternalIP\")].address}'\n",
        "kubectl get events --sort-by=.metadata.creationTimestamp\n",
        "kubectl get hpa --namespace acg-ns\n",
        "```\n",
        "\n",
        "**Cluster Management**\n",
        "```\n",
        "\n",
        "gcloud container clusters list\n",
        "\n",
        "gcloud container clusters create mshello-cluster --num-nodes=1 --zone \"asia-southeast1-a\" --network \"projects/khoa-motsach-project-01/global/networks/khoa-vpc-01\" --subnetwork \"projects/khoa-motsach-project-01/regions/asia-southeast1/subnetworks/khoa-subnet-01-04\"\n",
        "```\n",
        "\n",
        "\n",
        "**Container Management**\n",
        "\n",
        "```\n",
        "gcloud beta container --project \"khoa-motsach-project-01\" clusters create \"ms-cluster\" --zone \"asia-southeast1-a\" --no-enable-basic-auth --cluster-version \"1.20.8-gke.900\" --release-channel \"regular\" --machine-type \"e2-medium\" --image-type \"COS_CONTAINERD\" --disk-type \"pd-standard\" --disk-size \"20\" --metadata disable-legacy-endpoints=true --scopes \"https://www.googleapis.com/auth/devstorage.read_only\",\"https://www.googleapis.com/auth/logging.write\",\"https://www.googleapis.com/auth/monitoring\",\"https://www.googleapis.com/auth/servicecontrol\",\"https://www.googleapis.com/auth/service.management.readonly\",\"https://www.googleapis.com/auth/trace.append\" --max-pods-per-node \"8\" --num-nodes \"1\" --logging=SYSTEM,WORKLOAD --monitoring=SYSTEM --enable-ip-alias --network \"projects/khoa-motsach-project-01/global/networks/khoa-vpc-01\" --subnetwork \"projects/khoa-motsach-project-01/regions/asia-southeast1/subnetworks/khoa-subnet-01-04\" --no-enable-intra-node-visibility --default-max-pods-per-node \"8\" --enable-autoscaling --min-nodes \"0\" --max-nodes \"3\" --no-enable-master-authorized-networks --addons HorizontalPodAutoscaling,HttpLoadBalancing,GcePersistentDiskCsiDriver --enable-autoupgrade --enable-autorepair --max-surge-upgrade 1 --max-unavailable-upgrade 0 --enable-autoprovisioning --min-cpu 2 --max-cpu 6 --min-memory 8 --max-memory 24 --enable-autoprovisioning-autorepair --enable-autoprovisioning-autoupgrade --autoprovisioning-max-surge-upgrade 1 --autoprovisioning-max-unavailable-upgrade 0 --autoscaling-profile optimize-utilization --enable-vertical-pod-autoscaling --enable-shielded-nodes --node-locations \"asia-southeast1-a\"\n",
        "\n",
        "gcloud container clusters delete cost-optimized-cluster-1\n",
        "gcloud container clusters get-credentials mshello-cluster\n",
        "kubectl exec -it pingtest-84646bf5d4-28d6h -- bash\n",
        "```\n",
        "\n",
        "**Artifactory**\n",
        "```\n",
        "gcloud artifacts repositories create mshello-repo --repository-format=docker --location=asia-southeast1 --description=\"Minh SonDocker repository\"\n",
        "docker build -t asia-southeast1-docker.pkg.dev/khoa-motsach-project-01/mshello-repo/hello-app:v1 .\n",
        "gcloud auth configure-docker asia-southeast1-docker.pkg.dev\n",
        "docker push asia-southeast1-docker.pkg.dev/khoa-motsach-project-01/mshello-repo/hello-app:v1\n",
        "gcloud container clusters get-credentials mshello-cluster\n",
        "\n",
        "kubectl create deployment mshello-app --image=asia-southeast1-docker.pkg.dev/khoa-motsach-project-01/mshello-repo/hello-app:v1\n",
        "kubectl get pods -o wide\n",
        "kubectl scale deployment hello-app --replicas=3\n",
        "kubectl autoscale deployment mshello-app --cpu-percent=80 --min=1 --max=5\n",
        "kubectl expose deployment mshello-app --name=mshello-app-service --type=LoadBalancer --port 80 --target-port 8080\n",
        "kubectl get service\n",
        "\n",
        "kubectl set image deployment/mshello-app mshello-app=asia-southeast1-docker.pkg.dev/${PROJECT_ID}/mshello-repo/hello-app:v2\n",
        "```\n",
        "\n",
        "**Storage**\n",
        "```\n",
        "kubectl create secret generic mysql-pass --from-literal=password=Password123\n",
        "kubectl get secret\n",
        "kubectl get pv\n",
        "kubectl get pvc\n",
        "```\n",
        "\n",
        "**Auto scalling**\n",
        "```\n",
        "kubectl get deploy\n",
        "kubectl get hba\n",
        "kubectl get hpa --namespace acg-ns\n",
        "```\n",
        "\n",
        "**Load test**\n",
        "```\n",
        "kubectl run -i --tty loader --image=busybox /bin/sh\n",
        "while true; do wget -q -O- http://acg-lb.acg-ns.svc.cluster.local; done\n",
        "```\n",
        "\n",
        "**Resources**\n",
        "\n",
        "https://kubernetespodcast.com/\n",
        "https://events.linuxfoundation.org/kubecon-cloudnativecon-north-america/\n",
        "https://training.linuxfoundation.org/certification/certified-kubernetes-security-specialist/\n",
        "https://www.cncf.io/certification/cks/"
      ]
    },
    {
      "cell_type": "markdown",
      "metadata": {
        "id": "9vH28TIhV-5H"
      },
      "source": [
        "## Security"
      ]
    },
    {
      "cell_type": "markdown",
      "metadata": {
        "id": "zYLZrq9JUzdm"
      },
      "source": [
        "### Cloud Armor\n",
        "\n",
        "| Features | Remark |\n",
        "| --- | --- | \n",
        "| Protect ``live`` data at transit | |\n",
        "| Against Global Load Balancer |  |\n",
        "| DDoS | AWS Shield |\n",
        "| WAF | AWS WAF |\n",
        "| Pre-configured WAF rules. OWASP Top 10 risks | Required |\n",
        "| IP-based and geo-based access control |  |\n",
        "| Support for hybrid and multicloud deployments |  |\n",
        "| Managed Protection Plus for enterprise | 3000$ per month |\n",
        "| Log in StackDriver |  |\n"
      ]
    },
    {
      "cell_type": "markdown",
      "metadata": {
        "id": "U4wX4DbvVoC-"
      },
      "source": [
        "### Web Sercurity Scanner\n",
        "\n",
        "| Features | Remark |\n",
        "| --- | --- | \n",
        "| Protect ``live`` data at transit | |\n",
        "| WAF | AWS Inspector |\n",
        "| Free but limited vulnerability scanner |  |\n",
        "| Supported services | GAE, GKE, GCE |\n",
        "| Pre-configured WAF rules. OWASP Top 10 risks | Required |\n",
        "| GET-only requests |  |\n"
      ]
    },
    {
      "cell_type": "markdown",
      "metadata": {
        "id": "7WM8PkpwWwyo"
      },
      "source": [
        "### Data lost prevention\n",
        "\n",
        "| Features | Remark |\n",
        "| --- | --- | \n",
        "| Protect ``data`` at rest | AWS Macie |\n",
        "| Use machine learning |  |\n",
        "| Data discovery and classification | |\n",
        "| De-identify your data: redact, mask, tokenize, and transform text and images | |\n",
        "| Pay as you go, servless|  |\n",
        "| On and off the cloud |  |\n",
        "| Text and images |  |\n"
      ]
    },
    {
      "cell_type": "markdown",
      "metadata": {
        "id": "0bdPgiFTWw9P"
      },
      "source": [
        "### Event Thread Protection\n",
        "\n",
        "| Features | Remark |\n",
        "| --- | --- | \n",
        "| Scan ``log`` for security detection | AWS Guard Duty |\n",
        "| Malware, DDoS, port scanning, brute-force |  |\n"
      ]
    },
    {
      "cell_type": "markdown",
      "metadata": {
        "id": "KtsGC2EPWxKD"
      },
      "source": [
        "### Security Command Center\n",
        "\n",
        "* Is a Security Information & Event Management System (SIEM)\n",
        "* Similar services\n",
        "  * AWS Security Hub\n",
        "  * Splunk Enterprise Security\n",
        "  * Sumo Logic\n",
        "\n"
      ]
    },
    {
      "cell_type": "markdown",
      "metadata": {
        "id": "gt9ARHnXWxSx"
      },
      "source": [
        "### KMS\n",
        "\n",
        "* Regional & global\n",
        "* Support HSM\n",
        "* FIPS compliance"
      ]
    },
    {
      "cell_type": "markdown",
      "metadata": {
        "id": "n3qgTWm5V6oe"
      },
      "source": [
        "## Monitoring"
      ]
    },
    {
      "cell_type": "markdown",
      "metadata": {
        "id": "97O9JhQUTgMm"
      },
      "source": [
        "### Audit log\n",
        "| Features | Remark |\n",
        "| --- | --- | \n",
        "| Admin log (eg. create new VM) | Required |\n",
        "| System Event (eg. Auto scalling) | Required |\n",
        "| Access transparency log (by Google support staff) | Required |\n",
        "| BigQuery | Required |\n",
        "| Data access | Custom |\n",
        "| User defined | Custom |\n",
        "| Required log | 400 days |\n",
        "| Custom log | 30 days |"
      ]
    },
    {
      "cell_type": "markdown",
      "metadata": {
        "id": "NNW6u95tYc2E"
      },
      "source": [
        "### Stack driver family\n",
        "1. SD Logging\n",
        "   * Base on Fluentd\n",
        "   * Store, search, analyze, monitor, alert on log and events\n",
        "   * Hybrid cloud\n",
        "   * Scope: global\n",
        "   * Similar as: AWS CloudWatch\n",
        "\n",
        "2. SD Error Reporting\n",
        "   * Error dashboard\n",
        "   * Counts, analyze, aggregate, track crash\n",
        "   * Alarm\n",
        "   * Understand programming language\n",
        "   * Support gcp, aws, on-premise\n",
        "   * Similar: Rollbar, Bugsnag\n",
        "3. SD Trace\n",
        "   * Track call tree and ``latency`` across distributed system\n",
        "   * Java, Node, Ruby, Go\n",
        "   * Automatic captured for App Engine\n",
        "   * Monitor ``performance``\n",
        "   * Scope: global\n",
        "   * Similar: AWS X-Ray, Zipkin, Open Tracking\n",
        "4. SD Debugger\n",
        "   * View the application state (variables) without adding logging statements.\n",
        "   * Logpoint, conditional, source view\n",
        "   * Support Java, Python, Node, Ruby\n",
        "   * GCE, GKE, GAE\n",
        "   * Automatic capture for App Engine\n",
        "   * Scope: global\n",
        "   * Support: github, gitlab, bitbucket, app engine\n",
        "4. SD Profileer\n",
        "   * Watch application CPU, memory\n",
        "   * Low overhead (less than 5%)\n",
        "   * Go, Java, Node, Python\n",
        "   * Agent based\n",
        "   * 30 days log\n",
        "   * Free of chage\n",
        "\n",
        "\n",
        "| Tool | Target | Method | Based on | Hybrid |\n",
        "| --- | --- | --- | --- | --- |\n",
        "| SD Logging | Log | SDK, role | fludentd | Yes |\n",
        "| SD Error Reporting | Error | SDK |  | Yes |\n",
        "| SD Trace | Performance | SDK | | - |\n",
        "| SD Debugger | Debug | SDK | | Yes |\n",
        "| SD Profiler | CPU/RAM |Agent|  | Yes |\n",
        "\n"
      ]
    },
    {
      "cell_type": "markdown",
      "metadata": {
        "id": "DtU4md0kcExX"
      },
      "source": [
        "## Development"
      ]
    },
    {
      "cell_type": "markdown",
      "metadata": {
        "id": "dYuXjAw7Yc45"
      },
      "source": [
        "### Deploy Management\n",
        "\n",
        "1. Infrastructure as Service\n",
        "2. Template based\n",
        "3. Language supported: Yaml, Python, Jinja2, Json\n",
        "4. Similar: AWS CloudFormation, HashiCorp TerraForm, Free of charge"
      ]
    },
    {
      "cell_type": "markdown",
      "metadata": {
        "id": "MxaK6aZXYc7U"
      },
      "source": [
        "### Billing API\n",
        "1. Detial billing\n",
        "2. Get list of billable SKU\n",
        "3. Get public pricing\n",
        "4. Regional availability"
      ]
    },
    {
      "cell_type": "markdown",
      "metadata": {
        "id": "3UG3NgKDYc9y"
      },
      "source": [
        "### Source repository\n",
        "1. No pull requests\n",
        "2. Auto sync from Bitbucket, Github\n",
        "3. Integration with stackdriver debugger\n",
        "4. Pay per active users + resources\n",
        "5. No enhance feature like pull request\n"
      ]
    },
    {
      "cell_type": "markdown",
      "metadata": {
        "id": "KG0R7ZNRYdAD"
      },
      "source": [
        "### Code build\n",
        "1. CI/CD service\n",
        "2. Can trigger from GitHub, BitBucket\n",
        "3. Can build parallel for muiltiple source repos\n",
        "4. Dockerfile built-in\n",
        "5. Integrate with CCR\n",
        "6. Build model: Pay per minutes, Free for 120 mins\n",
        "7. Similar: AWS CodeBuild, Travis CI, Jenkins\n",
        "\n",
        "\n"
      ]
    },
    {
      "cell_type": "markdown",
      "metadata": {
        "id": "mqJokuJqYdCS"
      },
      "source": [
        "### Google Container Registry\n",
        "1. Google Container Registry\n",
        "2. Stored in Cloud Storaged\n",
        "3. Scope: Regional & Multi-regional\n",
        "4. Similar: AWS ECR, Docker Hub"
      ]
    },
    {
      "cell_type": "markdown",
      "metadata": {
        "id": "pIOQdqqoYdE2"
      },
      "source": [
        "### Anthos\n",
        "\n",
        "1. Unifies the management of infrastructure and applications\n",
        "2. Multi-cloud + on-premise\n",
        "3. Similar: AWS ECR, Docker Hub\n"
      ]
    },
    {
      "cell_type": "markdown",
      "metadata": {
        "id": "-eRSV-ZNbS6z"
      },
      "source": [
        "### Cloud Endpoint\n",
        "\n",
        "1. Handles authorization, monitoring, logging, AIP keys in GCP\n",
        "2. Proxy base on LB\n",
        "3. Use JWT\n",
        "4. Integrate with firebase, Auth0, Google Auth\n",
        "5. Extensible Service Proxy Container\n",
        "6. Support both REST and gRPC\n",
        "7. Similar: AWS API Gateway, Nginx"
      ]
    },
    {
      "cell_type": "markdown",
      "metadata": {
        "id": "X108Vw8ebTAx"
      },
      "source": [
        "### Apigee\n",
        "\n",
        "1. Full lifecycle api management\n",
        "2. More powerful, more exepensive\n",
        "3. Support both REST and gRPC\n",
        "4. Support throttle, api versions\n",
        "5. Similar: AWS API Gateway, AWS Shield, CA API Gateway\n",
        "\n"
      ]
    },
    {
      "cell_type": "markdown",
      "metadata": {
        "id": "Q7NO3nB9bTDK"
      },
      "source": [
        "### Test Lab\n",
        "\n",
        "1. For Android\n",
        "2. Test with real devices\n",
        "3. Similar: AWS Device Farm, Xamarin test cloud, Sauce Lab mobile testing\n"
      ]
    },
    {
      "cell_type": "markdown",
      "metadata": {
        "id": "ishDOi-ObTFs"
      },
      "source": [
        "# Technologies used in Google Cloud\n",
        "\n",
        "| Features | Remark |\n",
        "| --- | --- | \n",
        "| Borg | cluster manager. Userd by Kubernetes |\n",
        "| Spanner | globally-consistent, scalable regional database |\n",
        "| Colossus | cluster-level file system |\n",
        "| fluentd | logging |\n",
        "| fluent-bit | logging, minified |\n",
        "| loggingd | monitoring |\n"
      ]
    },
    {
      "cell_type": "markdown",
      "metadata": {
        "id": "LKpDuadNgZxx"
      },
      "source": [
        "# Data & Data analytics"
      ]
    },
    {
      "cell_type": "markdown",
      "metadata": {
        "id": "cF406LhKgfZ8"
      },
      "source": [
        "## Database"
      ]
    },
    {
      "cell_type": "markdown",
      "metadata": {
        "id": "gKPM0SC3g1ky"
      },
      "source": [
        "\n",
        "| Product | Remark | Similar |\n",
        "| --- | --- | --- |\n",
        "| CloudSQL | AWS Inspector | RDS |\n",
        "| Cloud Spanner | Enterprise RDBM | Aurora |\n",
        "| Cloud DataStore | Wide-column | DynamoDB |\n",
        "| BigTable | Append only | DynamoDB |\n",
        "| BigQuery | Rrelational structured data | Redshift |\n"
      ]
    },
    {
      "cell_type": "markdown",
      "metadata": {
        "id": "k3_9212jgicA"
      },
      "source": [
        "## Data analytics"
      ]
    },
    {
      "cell_type": "markdown",
      "metadata": {
        "id": "DAWYuHJLiE_X"
      },
      "source": [
        "\n",
        "| Product | Purpose | Similar |\n",
        "| --- | --- | --- |\n",
        "| Datalab | - | Jupiter notebook |\n",
        "| Google Data Studio | Dashboard, reporting | - |\n",
        "| Looker | BI - third party | Anthena |\n",
        "| Cloud Genomics | Genomics processing | - |\n",
        "| BigQuery | Rrelational structured data | Athena, Redshift |\n"
      ]
    },
    {
      "cell_type": "markdown",
      "metadata": {
        "id": "yVKLNkrlgojz"
      },
      "source": [
        "### Data processing"
      ]
    },
    {
      "cell_type": "markdown",
      "metadata": {
        "id": "_aoGtVlUioIQ"
      },
      "source": [
        "\n",
        "| Product | Purpose | Similar |\n",
        "| --- | --- | --- |\n",
        "| Dataprep (vendor) | data eingineering tool | MapReduce, AWS EMR |\n",
        "| Dataflow | Batch data processing | Kinesis |\n",
        "| Dataproc | Data processing | Hadoop, Spark |\n",
        "| Data Composer | Orchestration | Datapipeline, Glue |\n",
        "| Pub/Sub | Dashboard, reporting | Kinesis |\n"
      ]
    },
    {
      "cell_type": "markdown",
      "metadata": {
        "id": "3HJ8lQDXwDj7"
      },
      "source": [
        "# Pricing"
      ]
    },
    {
      "cell_type": "markdown",
      "metadata": {
        "id": "7g0ocHy3bTKV"
      },
      "source": [
        "## Storage\n",
        "\n",
        "| A | B | Compare |\n",
        "| --- | --- | --- | \n",
        "| Class A | Class B | 10 times |\n",
        "| Standard | Archived | 10 times |\n",
        "| Standard | Coldline | 2 times |\n",
        "| HD | Standard | 2 times |\n",
        "| Firestore | Standard | 10 times |\n",
        "| Snapshot | Standard | equal |\n",
        "\n",
        "## Compute\n",
        "\n",
        "| A | B | Compare |\n",
        "| --- | --- | --- | \n",
        "| Standard | Preempty | > 3 times |\n",
        "| Standard | Reserved | < 2 times |\n",
        "| GKE | Compute | 2 times |\n",
        "| GKE Demand | GKE reserved | 1.5 times |\n",
        "| NVIDIA | Tesla | 8 times |\n",
        "| GPU | CPU | 50 times |\n",
        "| TPU | GPU | 5 times |\n"
      ]
    }
  ]
}