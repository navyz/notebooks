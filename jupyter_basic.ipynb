{
  "nbformat": 4,
  "nbformat_minor": 0,
  "metadata": {
    "colab": {
      "name": "jupyter basic.ipynb",
      "provenance": [],
      "collapsed_sections": [],
      "authorship_tag": "ABX9TyMmQz1DV3nmiTeXYVL6b49R",
      "include_colab_link": true
    },
    "kernelspec": {
      "name": "python3",
      "display_name": "Python 3"
    },
    "language_info": {
      "name": "python"
    }
  },
  "cells": [
    {
      "cell_type": "markdown",
      "metadata": {
        "id": "view-in-github",
        "colab_type": "text"
      },
      "source": [
        "<a href=\"https://colab.research.google.com/github/navyz/notebooks/blob/main/jupyter_basic.ipynb\" target=\"_parent\"><img src=\"https://colab.research.google.com/assets/colab-badge.svg\" alt=\"Open In Colab\"/></a>"
      ]
    },
    {
      "cell_type": "markdown",
      "metadata": {
        "id": "DH2p0BdYsZjr"
      },
      "source": [
        "# JUPYTER FAMILIES"
      ]
    },
    {
      "cell_type": "markdown",
      "metadata": {
        "id": "0ULWzKo0yxHK"
      },
      "source": [
        "## 1. Jupyter notebook\n",
        "\n",
        "The tranditional one.\n",
        "\n",
        "* Website: https://jupyter.org/\n",
        "* By: Jupyter community.\n",
        "* View shortcuts: H\n",
        "* Tags: local, free, standard\n",
        "\n",
        "## 2. JupyterLab\n",
        "\n",
        "Next generation of Jupyter notebook. Some differences: open each file in a tab, can review files (eg. csv)\n",
        "\n",
        "* Website: https://jupyter.org/\n",
        "* By: Jupyter community.\n",
        "* View shortcuts: H\n",
        "* Tags: local, free, standard\n",
        "\n",
        "## 3. Binder \n",
        "is a service provided by the Binder Project, which is a member of the Project Jupyter open source ecosystem. It allows you to input the URL of any public Git repository, and it will open that repository within the native Jupyter Notebook interface. You can run any notebooks in the repository, though any changes you make will not be saved back to the repository. ``You don't have to create an account with Binder and you don't need to be the owner of the repository``, though the repository must include a configuration file that specifies its package requirements.\n",
        "\n",
        "* Website: https://mybinder.org/\n",
        "* By: Binder team\n",
        "* View shortcuts: H\n",
        "* Tags: online, free, standard\n",
        "\n",
        "## 4. Colab\n",
        "\n",
        "Full name: Google Colabotory. Data is stored in GoogleDrive or Github. Strong for collaboration\n",
        "\n",
        "*   Website: https://research.google.com/colaboratory/faq.html\n",
        "*   By: Google\n",
        "*   View shortcuts: Cmd-M + H\n",
        "*   Tags: online, free, custom\n",
        "\n",
        "## 5. Datalab\n",
        "\n",
        "Mainly for analysing data on Google Cloud. UI is minimize. VM is hosted on your google cloud account and you pay for it.\n",
        "\n",
        "*   Website: https://cloud.google.com/datalab/docs\n",
        "*   By: Google\n",
        "*   View shortcuts: Cmd-M + H\n",
        "*   Tags: online, non-free, custom\n",
        "\n",
        "## 6. Kaggle Notebooks\n",
        "\n",
        "Free online hosting for data analytics & machine learning. \n",
        "\n",
        "*   Website: https://research.google.com/colaboratory/faq.html\n",
        "*   By: Google\n",
        "*   View shortcuts: NA\n",
        "*   Tags: online, free, non-standard\n",
        "\n",
        "\n",
        "## 7. Cocalc\n",
        "\n",
        "Collaborative Calculation and Data Science\n",
        "Jupyter. For teaching purpose.\n",
        "\n",
        "*   Website: https://cocalc.com/\n",
        "*   By: SageMath\n",
        "*   View shortcuts: H\n",
        "*   Tags: online, free, standard\n"
      ]
    },
    {
      "cell_type": "markdown",
      "metadata": {
        "id": "seFKMMC1qssh"
      },
      "source": [
        "*Comparison between these platforms*\n",
        "\n",
        "https://docs.google.com/spreadsheets/d/12thaaXg1Idr3iWST8QyASNDs08sjdPd6m9mbCGtHFn0/edit#gid=1505836451\n",
        "\n",
        "\n"
      ]
    }
  ]
}