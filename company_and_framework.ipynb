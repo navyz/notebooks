{
  "nbformat": 4,
  "nbformat_minor": 0,
  "metadata": {
    "colab": {
      "name": "Company and framework.ipynb",
      "provenance": [],
      "collapsed_sections": [],
      "authorship_tag": "ABX9TyPq0LRQvZXYlVEAOCwVV4B5",
      "include_colab_link": true
    },
    "kernelspec": {
      "name": "python3",
      "display_name": "Python 3"
    },
    "language_info": {
      "name": "python"
    }
  },
  "cells": [
    {
      "cell_type": "markdown",
      "metadata": {
        "id": "view-in-github",
        "colab_type": "text"
      },
      "source": [
        "<a href=\"https://colab.research.google.com/github/navyz/notebooks/blob/main/company_and_framework.ipynb\" target=\"_parent\"><img src=\"https://colab.research.google.com/assets/colab-badge.svg\" alt=\"Open In Colab\"/></a>"
      ]
    },
    {
      "cell_type": "markdown",
      "metadata": {
        "id": "MtorfvYCklOr"
      },
      "source": [
        "# Technologies and frameworks"
      ]
    },
    {
      "cell_type": "markdown",
      "metadata": {
        "id": "PmNGgX6wkpgA"
      },
      "source": [
        "| Stack | Google | Facebook | Apache | AWS | IBM | Others\n",
        "| --- | --- | --- | --- | --- | --- | --- | \n",
        "| ML | TensorFlow | PyTorch | MLlib (Spark)| SageMaker | Watson | scikit-Learn|\n",
        "| BigData | BigQuery | - | Hadoop, Spark, Kafka| RedShift| | Snowflake|\n",
        "| Container | GKE | - | - | ECS, EKS | | Kubenetees, DockerHub, OpenShift|\n",
        "| Jupyter | DataLab, CoLab | - | - | SakeMaker | | Binder, JupiterLab |\n",
        "| Object Storage | GCS | - | - | S3 | |  |piterLab |\n",
        "| BI | Looker | - | Superset | QuickSight | Cognos | Tableau, Power BI, Qlik  |\n",
        "| Javascript | Angular | ReactJs | - | - | - | VueJs |"
      ]
    }
  ]
}