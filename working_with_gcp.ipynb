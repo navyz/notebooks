{
  "nbformat": 4,
  "nbformat_minor": 0,
  "metadata": {
    "colab": {
      "name": "working-with-gcp.ipynb",
      "provenance": [],
      "collapsed_sections": [],
      "toc_visible": true,
      "authorship_tag": "ABX9TyNjsDXq6KXOauLP6NiCMbFN",
      "include_colab_link": true
    },
    "kernelspec": {
      "name": "python3",
      "display_name": "Python 3"
    },
    "language_info": {
      "name": "python"
    }
  },
  "cells": [
    {
      "cell_type": "markdown",
      "metadata": {
        "id": "view-in-github",
        "colab_type": "text"
      },
      "source": [
        "<a href=\"https://colab.research.google.com/github/navyz/notebooks/blob/main/working_with_gcp.ipynb\" target=\"_parent\"><img src=\"https://colab.research.google.com/assets/colab-badge.svg\" alt=\"Open In Colab\"/></a>"
      ]
    },
    {
      "cell_type": "markdown",
      "metadata": {
        "id": "xBru8fkxRQaL"
      },
      "source": [
        "*This notebook is for document purpose. No code can be run directly in here*\n",
        "\n",
        "Shortcut on colab: Ctrl-Shift-P, Cmd-M + H"
      ]
    },
    {
      "cell_type": "markdown",
      "metadata": {
        "id": "YEzzxvIVZLpo"
      },
      "source": [
        "# Terms and definitions\n",
        "```\n",
        "SKU: Stock Keeping Unit\n",
        "MTU: maximum transmission unit MTU. is the size of the largest protocol data unit (PDU) that can be communicated in a single network layer transaction\n",
        "```\n"
      ]
    },
    {
      "cell_type": "markdown",
      "metadata": {
        "id": "z4n4tS0VZDpv"
      },
      "source": [
        "# gcloud configuration\n",
        "```\n",
        "gcloud config set project khoa-motsach-project-01\n",
        "gcloud config set compute/zone us-west1-c\n",
        "gcloud config set compute/region us-west1\n",
        "```\n"
      ]
    },
    {
      "cell_type": "markdown",
      "metadata": {
        "id": "dzUtgvCITLo4"
      },
      "source": [
        "# Projects\n",
        "\n",
        "\n",
        "### Billing project\n",
        "```\n",
        "gcloud alpha billing accounts list\n",
        "gcloud alpha billing projects list --billing-account=0172CB-4FCA35-4B549C\n",
        "gcloud alpha billing projects unlink my-project-in-billing-account\n",
        "```\n",
        "\n",
        "### Get project information\n",
        "```\n",
        "gcloud projects list\n",
        "gcloud projects describe khoa-motsach-project-02\n",
        "gcloud projects get-ancestors-iam-policy khoa-motsach-project-02\n",
        "gcloud projects get-iam-policy khoa-motsach-project-02\n",
        "gcloud beta iam roles list --project=khoa-motsach-project-02\n",
        "gcloud services list --enabled\n",
        "gcloud compute project-info describe\n",
        "\n",
        "gcloud compute project-info describe --project khoa-motsach-project-01\n",
        "```\n",
        "### Update project information\n",
        "```\n",
        "gcloud projects delete khoa-motsach-project-05\n",
        "gcloud projects create khoa-motsach-project-05\n",
        "gcloud config set project khoa-motsach-project-01\n",
        "gcloud compute project-info add-metadata --metadata google-compute-default-region=asia-southeast1,google-compute-default-zone=asia-southeast1-a\n",
        "```\n"
      ]
    },
    {
      "cell_type": "markdown",
      "metadata": {
        "id": "wfp4BYU0F4YK"
      },
      "source": [
        "# Virtual machine\n",
        "\n",
        "### Basic commands\n",
        "\n",
        "```\n",
        "gcloud compute instances list\n",
        "gcloud compute instances create myvm\n",
        "gcloud compute instances delete myvm\n",
        "gcloud compute ssh myvm\n",
        "```\n",
        "\n",
        "### Create instance\n",
        "```\n",
        "gcloud compute instances create instance-1 --project=khoa-motsach-project-01 --zone=asia-southeast1-a --machine-type=e2-micro --network-interface=network-tier=PREMIUM,subnet=khoa-subnet-01-03 --no-restart-on-failure --maintenance-policy=TERMINATE --preemptible --service-account=khoa-service-01@khoa-motsach-project-01.iam.gserviceaccount.com --scopes=https://www.googleapis.com/auth/cloud-platform --image=debian-10-buster-v20210817 --image-project=debian-cloud --boot-disk-size=10GB --boot-disk-type=pd-balanced --no-shielded-secure-boot --shielded-vtpm --shielded-integrity-monitoring --reservation-affinity=any\n",
        "```\n",
        "\n",
        "### Permission\n",
        "```\n",
        "gcloud compute instances describe khoa-motsach-project-02\n",
        "```\n",
        "\n",
        "#### Start up script for web server\n",
        "```\n",
        "sudo apt update && sudo apt -y install apache2\n",
        "echo '<!doctype html><html><body><h1>Hello World!</h1></body></html>' | sudo tee /var/www/html/index.html\n",
        "```\n",
        "\n",
        "### Check external IP\n",
        "```\n",
        "curl api.ipify.org\n",
        "curl -H \"Metadata-Favour:Google\" metadata.google.internal/computeMetadata/v1/instance/service-accounts\n",
        "```\n",
        "\n",
        "### SSH\n",
        "\n",
        "```\n",
        "gcloud beta compute ssh --zone \"asia-east1-b\" \"instance-3\"  --project \"khoa-motsach-project-01\"\n",
        "\n",
        "```\n",
        "\n"
      ]
    },
    {
      "cell_type": "markdown",
      "metadata": {
        "id": "kCD3z1XRHRxw"
      },
      "source": [
        "\n",
        "#### Add new SSH key by using different ways\n",
        "\n",
        "1. Add a valid gcp account to project meta data\n",
        "```\n",
        "ssh-keygen -t rsa -f ~/.ssh/khoamotsach1 -C khoa.motsach@gmail.com\n",
        "chmod 400 ~/.ssh/khoamotsach1\n",
        "gcloud compute project-info describe --project khoa-motsach-project-01\n",
        "create temp file with the existing ssh data, append one more line\n",
        "khoa.motsach@gmail.com:ssh-rsa <publickey> khoa.motsach@gmail.com\n",
        "gcloud compute project-info add-metadata --metadata-from-file ssh-keys=temp\n",
        "ssh -i ~/.ssh/khoamotsach1 'khoa.motsach@gmail.com'@<external_ip>\n",
        "```\n",
        "\n",
        "2. Add a new user id to project meta data\n",
        "```\n",
        "ssh-keygen -t rsa -f ~/.ssh/khoamotsach2 -C khoamotsach2\n",
        "chmod 400 ~/.ssh/khoamotsach2\n",
        "gcloud compute project-info describe --project khoa-motsach-project-01\n",
        "create temp file with the existing ssh data, append one more line\n",
        "khoamotsach2:ssh-rsa <publickey> khoamotsach2\n",
        "gcloud compute project-info add-metadata --metadata-from-file ssh-keys=temp\n",
        "ssh -i ~/.ssh/khoamotsach2 khoamotsach2@35.240.177.47\n",
        "```\n",
        "  *From step 1 & 2, we learn that the user will be created as local user in VM. The permission is mapping to service account*\n",
        "\n",
        "\n",
        "3. Add new user to VM meta data\n",
        "```\n",
        "ssh-keygen -t rsa -f ~/.ssh/khoamotsach3 -C khoamotsach3\n",
        "chmod 400 ~/.ssh/khoamotsach3\n",
        " gcloud compute instances describe instance-1\n",
        "create temp file with the existing ssh data, append one more line\n",
        "khoamotsach3:ssh-rsa <publickey> khoamotsach3\n",
        "gcloud compute instances add-metadata instance-3 --metadata-from-file ssh-keys=temp2\n",
        "ssh -i ~/.ssh/khoamotsach3 khoamotsach3@35.240.177.47\n",
        "```\n",
        "\n",
        "4. Login to instance-2 from instance-1 using private ip address with new ssh key added to instance-2\n",
        "\n",
        "  * Login to instance-1 which as firewall open, create a key-pair\n",
        "```\n",
        "ssh-keygen -t rsa -f ~/.ssh/khoamotsach4 -C khoamotsach4\n",
        "chmod 400 ~/.ssh/khoamotsach4\n",
        "```\n",
        "  * In instance-1, the service account does not has permission to update meta data of instance-2, that is why we need to jump out to local to user a more powerfull user\n",
        "  * On local, check what ssh key available in instace 2\n",
        "```\n",
        " gcloud compute instances describe instance-2\n",
        "```\n",
        "  * Also on local, create temp3 file with the existing ssh data, copy all the existin ssh key and append one more line (copy the public key from the instance-1)\n",
        "  * In summary, temp3 file has all the public key which allows to ssh into this instance\n",
        "```\n",
        "khoamotsach4:ssh-rsa <publickey> khoamotsach4\n",
        "gcloud compute instances add-metadata instance-2 --metadata-from-file ssh-keys=temp3\n",
        "```\n",
        "  * Back to the instance-1, we can now ssh into instance-2, base on the ssh key we just added. Both public/private IP should work\n",
        "```\n",
        "ssh -i ~/.ssh/khoamotsach4 khoamotsach4@35.247.173.15\n",
        "ssh -i ~/.ssh/khoamotsach4 khoamotsach4@192.168.3.3\n",
        "```\n",
        "5. Login to instance-3 from instance-1 using private ip address, no external ip available\n",
        "  * From the previous lab, instance-2 has both internal and external IP Address. This lab is to test if we can ssh into a instance which only has private IP.\n",
        "  * When create instance-3, remember not to create public IP address\n",
        "  * Repeat the same steps as above\n",
        "\n",
        "  * Login to instance-1 which as firewall open, create a key-pair\n",
        "```\n",
        "ssh-keygen -t rsa -f ~/.ssh/khoamotsach5 -C khoamotsach5\n",
        "chmod 400 ~/.ssh/khoamotsach5\n",
        "```\n",
        "  * On local, add the ssh key into instance-3\n",
        "```\n",
        "gcloud compute instances describe instance-3\n",
        "```\n",
        "  * Create temp4 file with the existing ssh data, append one more line (copy the public key from the instance-1)\n",
        "```\n",
        "khoamotsach5:ssh-rsa <publickey> khoamotsach5\n",
        "gcloud compute instances add-metadata instance-3 --metadata-from-file ssh-keys=temp4\n",
        "```\n",
        "  * Back to the instance-1, ssh to instance-3\n",
        "```\n",
        "ssh -i ~/.ssh/khoamotsach5 khoamotsach5@192.168.3.4\n",
        "```"
      ]
    },
    {
      "cell_type": "markdown",
      "metadata": {
        "id": "pPNR4rHKSibF"
      },
      "source": [
        "# IAM\n",
        "\n",
        "### Roles\n",
        "```\n",
        "gcloud beta iam roles list\n",
        "```\n",
        "\n",
        "### Service accounts\n",
        "```\n",
        "gcloud iam service-accounts list\n",
        "gcloud iam service-accounts delete khoa-service-02@khoa-motsach-project-01.iam.gserviceaccount.com\n",
        "```\n",
        "\n"
      ]
    },
    {
      "cell_type": "markdown",
      "metadata": {
        "id": "31l8oV3wZSMu"
      },
      "source": [
        "# VPC\n",
        "```\n",
        "gcloud compute networks list\n",
        "gcloud compute networks delete khoa-vpc-01\n",
        "gcloud compute firewall-rules list\n",
        "gcloud compute firewall-rules delete allow-incomming\n",
        "gcloud compute networks subnets list\n",
        "gcloud compute networks subnets delete khoa-subnet-01 --region=asia-east1\n",
        "```\n",
        "\n",
        "### Networks\n",
        "\n",
        "#### Create VPC\n",
        "```\n",
        "gcloud compute networks create khoa-vpc-01 --project=khoa-motsach-project-01 --subnet-mode=custom --mtu=1460 --bgp-routing-mode=regional\n",
        "```\n",
        "\n",
        "\n",
        "#### Subnet\n",
        "```\n",
        "gcloud compute networks subnets create khoa-subnet-01-01 --project=khoa-motsach-project-01 --range=192.168.1.0/24 --network=khoa-vpc-01 --region=asia-east1 --enable-private-ip-google-access\n",
        "\n",
        "gcloud compute networks subnets list\n",
        "```\n",
        "\n",
        "#### Create subnet without private ip access\n",
        "```\n",
        "gcloud compute networks subnets create khoa-subnet-01-02 --project=khoa-motsach-project-01 --range=192.168.2.0/24 --network=khoa-vpc-01 --region=asia-east1\n",
        "```\n",
        "\n",
        "### Firewall\n",
        "```\n",
        "gcloud compute firewall-rules list\n",
        "\n",
        "gcloud compute --project=khoa-motsach-project-01 firewall-rules create web-firewall --direction=INGRESS --priority=1000 --network=khoa-vpc-01 --action=ALLOW --rules=tcp:80 --source-ranges=0.0.0.0/0 --target-service-accounts=khoa-service-01@khoa-motsach-project-01.iam.gserviceaccount.com\n",
        "\n",
        "gcloud compute --project=khoa-motsach-project-01 firewall-rules create ssh-rule --direction=INGRESS --priority=1000 --network=khoa-vpc-01 --action=ALLOW --rules=tcp:22 --source-ranges=0.0.0.0/0 --target-service-accounts=khoa-service-01@khoa-motsach-project-01.iam.gserviceaccount.com\n",
        "\n",
        "gcloud compute --project=khoa-motsach-project-01 firewall-rules create ssh-private --direction=INGRESS --priority=1000 --network=default --action=ALLOW --rules=tcp:22 --source-ranges=192.168.1.0/24,192.168.2.0/24\n",
        "```"
      ]
    },
    {
      "cell_type": "markdown",
      "metadata": {
        "id": "gQIdzUv7I6mN"
      },
      "source": [
        "### Cloud NAT\n",
        "```\n",
        "gcloud compute routers create nat-router --network khoa-vpc-01 --region asia-southeast1\n",
        "gcloud compute routers nats create nat-config --router-region asia-southeast1 --router nat-router --nat-all-subnet-ip-ranges --auto-allocate-nat-external-ips\n",
        "```"
      ]
    },
    {
      "cell_type": "markdown",
      "metadata": {
        "id": "2VVPox4_JDxf"
      },
      "source": [
        "### VM without external IP\n",
        "- ssh from local: Yes. Need firewall open to internet & using gcloud compute ssh\n",
        "- download from internet: need cloud NAT (previous steps)\n",
        "- ssh from same subnet: need firewall open to intranet & ssh key register & using tranditional ssh\n",
        "  -  require IP forwarding: NO. IP forwarding is just be used for the NAT gateway VM\n",
        "- Need  project-wide SSH keys? NO, VM ssh key will do\n",
        "- Need  VM SSH keys? NO, project-wide ssh  key will do"
      ]
    }
  ]
}