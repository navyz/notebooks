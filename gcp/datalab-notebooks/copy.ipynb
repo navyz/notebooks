{
 "cells": [
  {
   "cell_type": "code",
   "execution_count": 8,
   "metadata": {},
   "outputs": [
    {
     "data": {
      "text/plain": [
       "u'/content/datalab/notebooks'"
      ]
     },
     "execution_count": 8,
     "metadata": {},
     "output_type": "execute_result"
    }
   ],
   "source": [
    "%pwd"
   ]
  },
  {
   "cell_type": "code",
   "execution_count": 12,
   "metadata": {},
   "outputs": [
    {
     "name": "stdout",
     "output_type": "stream",
     "text": [
      "compute-engine.ipynb  copy.ipynb  data-storage-query.ipynb  \u001b[0m\u001b[01;34mdocs\u001b[0m/  README.md\r\n"
     ]
    }
   ],
   "source": [
    "%ls"
   ]
  },
  {
   "cell_type": "code",
   "execution_count": null,
   "metadata": {},
   "outputs": [],
   "source": [
    "%cp -r ../docs ./"
   ]
  },
  {
   "cell_type": "code",
   "execution_count": 14,
   "metadata": {},
   "outputs": [],
   "source": [
    "%rm -rf docs/.git"
   ]
  },
  {
   "cell_type": "code",
   "execution_count": 17,
   "metadata": {},
   "outputs": [
    {
     "name": "stdout",
     "output_type": "stream",
     "text": [
      "total 40K\r\n",
      "drwxr-xr-x 6 root root 4.0K Sep  7 12:04 \u001b[0m\u001b[01;34m.\u001b[0m/\r\n",
      "drwxr-xr-x 5 root root 4.0K Sep  7 11:55 \u001b[01;34m..\u001b[0m/\r\n",
      "drwxr-xr-x 2 root root 4.0K Sep  7 11:53 \u001b[01;34m.ipynb_checkpoints\u001b[0m/\r\n",
      "drwxr-xr-x 6 root root 4.0K Sep  7 11:53 \u001b[01;34mtutorials\u001b[0m/\r\n",
      "drwxr-xr-x 6 root root 4.0K Sep  7 11:53 \u001b[01;34msamples\u001b[0m/\r\n",
      "-rw-r--r-- 1 root root  906 Sep  7 11:53 Hello World.ipynb\r\n",
      "drwxr-xr-x 2 root root 4.0K Sep  7 11:53 \u001b[01;34mintro\u001b[0m/\r\n",
      "-rw-r--r-- 1 root root  12K Sep  7 11:53 Readme.ipynb\r\n"
     ]
    }
   ],
   "source": [
    "%ls -lhta docs"
   ]
  },
  {
   "cell_type": "code",
   "execution_count": null,
   "metadata": {},
   "outputs": [],
   "source": []
  }
 ],
 "metadata": {
  "kernelspec": {
   "display_name": "Python 2",
   "language": "python",
   "name": "python2"
  },
  "language_info": {
   "codemirror_mode": {
    "name": "ipython",
    "version": 2
   },
   "file_extension": ".py",
   "mimetype": "text/x-python",
   "name": "python",
   "nbconvert_exporter": "python",
   "pygments_lexer": "ipython2",
   "version": "2.7.18"
  }
 },
 "nbformat": 4,
 "nbformat_minor": 4
}
