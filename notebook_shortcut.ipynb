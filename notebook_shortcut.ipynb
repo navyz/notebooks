{
  "nbformat": 4,
  "nbformat_minor": 0,
  "metadata": {
    "colab": {
      "name": "notebook-shortcut.ipynb",
      "provenance": [],
      "collapsed_sections": [],
      "authorship_tag": "ABX9TyPar1LHKPkcRnnRf2a9vb2g",
      "include_colab_link": true
    },
    "kernelspec": {
      "name": "python3",
      "display_name": "Python 3"
    },
    "language_info": {
      "name": "python"
    }
  },
  "cells": [
    {
      "cell_type": "markdown",
      "metadata": {
        "id": "view-in-github",
        "colab_type": "text"
      },
      "source": [
        "<a href=\"https://colab.research.google.com/github/navyz/notebooks/blob/main/notebook_shortcut.ipynb\" target=\"_parent\"><img src=\"https://colab.research.google.com/assets/colab-badge.svg\" alt=\"Open In Colab\"/></a>"
      ]
    },
    {
      "cell_type": "code",
      "metadata": {
        "id": "GX2QOSlwUXd2"
      },
      "source": [
        ""
      ],
      "execution_count": null,
      "outputs": []
    },
    {
      "cell_type": "markdown",
      "metadata": {
        "id": "x7aW3sVpU2Kn"
      },
      "source": [
        "| Function | Standard | Colab |\n",
        "| --- | --- | --- |\n",
        "| Command Palette | H | Cmd+Shift+P |\n",
        "| to markdown | M | Cmd+M M  |\n",
        "| to code | Y | Cmd+M Y |\n",
        "| to raw | R | Cmd+M R  |\n",
        "| run cell | Ctrl + Enter | Ctrl + Enter |\n",
        "| run cell + select below | Shift + Enter | Shift + Enter |\n",
        "| run cell + insert below | Alt + Enter | Alt + Enter |\n",
        "| to heading | 1 to 6 | NA |\n",
        "| delete cell | 1 to 6 | Cmd+M D |\n",
        "| add cell before | A | A |\n",
        "| add cell after | B | B |"
      ]
    },
    {
      "cell_type": "code",
      "metadata": {
        "colab": {
          "base_uri": "https://localhost:8080/"
        },
        "id": "cFNuMvspWRGr",
        "outputId": "4190b36a-3550-4a8f-ffc5-b4987b7089d7"
      },
      "source": [
        "3 + 2"
      ],
      "execution_count": 4,
      "outputs": [
        {
          "output_type": "execute_result",
          "data": {
            "text/plain": [
              "5"
            ]
          },
          "metadata": {},
          "execution_count": 4
        }
      ]
    },
    {
      "cell_type": "code",
      "metadata": {
        "id": "F35NjOcNWOzn"
      },
      "source": [
        ""
      ],
      "execution_count": null,
      "outputs": []
    },
    {
      "cell_type": "code",
      "metadata": {
        "id": "nkZ8MHWCWLtD"
      },
      "source": [
        ""
      ],
      "execution_count": null,
      "outputs": []
    },
    {
      "cell_type": "code",
      "metadata": {
        "id": "HmhoT8pbWLNB"
      },
      "source": [
        ""
      ],
      "execution_count": null,
      "outputs": []
    },
    {
      "cell_type": "code",
      "metadata": {
        "id": "F_nHfY0nWKSy"
      },
      "source": [
        ""
      ],
      "execution_count": null,
      "outputs": []
    },
    {
      "cell_type": "code",
      "metadata": {
        "id": "hqWoVgQ1V5q8"
      },
      "source": [
        ""
      ],
      "execution_count": null,
      "outputs": []
    },
    {
      "cell_type": "code",
      "metadata": {
        "id": "oypcAbJbU3Eb"
      },
      "source": [
        ""
      ],
      "execution_count": null,
      "outputs": []
    }
  ]
}