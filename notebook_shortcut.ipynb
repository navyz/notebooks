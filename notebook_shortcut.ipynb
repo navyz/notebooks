{
  "nbformat": 4,
  "nbformat_minor": 0,
  "metadata": {
    "colab": {
      "name": "notebook-shortcut.ipynb",
      "provenance": [],
      "collapsed_sections": [],
      "authorship_tag": "ABX9TyOUk2nHLzM35GtQEretg8KL",
      "include_colab_link": true
    },
    "kernelspec": {
      "name": "python3",
      "display_name": "Python 3"
    },
    "language_info": {
      "name": "python"
    }
  },
  "cells": [
    {
      "cell_type": "markdown",
      "metadata": {
        "id": "view-in-github",
        "colab_type": "text"
      },
      "source": [
        "<a href=\"https://colab.research.google.com/github/navyz/notebooks/blob/main/notebook_shortcut.ipynb\" target=\"_parent\"><img src=\"https://colab.research.google.com/assets/colab-badge.svg\" alt=\"Open In Colab\"/></a>"
      ]
    },
    {
      "cell_type": "markdown",
      "metadata": {
        "id": "cbUd8ZouPphs"
      },
      "source": [
        "# Notebook shortcuts"
      ]
    },
    {
      "cell_type": "markdown",
      "metadata": {
        "id": "x7aW3sVpU2Kn"
      },
      "source": [
        "| Function | Standard | Colab |\n",
        "| --- | --- | --- |\n",
        "| Command Palette | H | Cmd+Shift+P |\n",
        "| to markdown | M | Cmd+M M  |\n",
        "| to code | Y | Cmd+M Y |\n",
        "| to raw | R | Cmd+M R  |\n",
        "| run cell | Ctrl + Enter | Ctrl + Enter |\n",
        "| run cell + select below | Shift + Enter | Shift + Enter |\n",
        "| run cell + insert below | Alt + Enter | Alt + Enter |\n",
        "| to heading | 1 to 6 | NA |\n",
        "| delete cell | 1 to 6 | Cmd+M D |\n",
        "| add cell before | A | A |\n",
        "| add cell after | B | B |\n",
        "| move cell up | K | Cmd+M K |\n",
        "| move cell down | J | Cmd+M K |"
      ]
    }
  ]
}